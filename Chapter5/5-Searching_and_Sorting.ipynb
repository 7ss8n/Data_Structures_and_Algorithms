{
 "cells": [
  {
   "cell_type": "markdown",
   "metadata": {},
   "source": [
    "# Searching and Sorting\n",
    "\n",
    "\n",
    "## Searching\n",
    "\n",
    "Process of selecting information from a collection based on specific criteria. \n",
    "\n",
    "### Linear Search\n",
    "\n",
    "Simplest approach to searching problem is sequential or linear search. It's basically starting from first element and goint one by one untill the item found. \n",
    "\n",
    "In Python, a specific item can be found with ```in``` operator"
   ]
  },
  {
   "cell_type": "code",
   "execution_count": 6,
   "metadata": {
    "collapsed": false
   },
   "outputs": [
    {
     "name": "stdout",
     "output_type": "stream",
     "text": [
      "The key is not in the array.\n"
     ]
    }
   ],
   "source": [
    "theArray = range(0,100)\n",
    "key = 101\n",
    "if key in theArray:\n",
    "    print(\"The key is in the array.\")\n",
    "else:\n",
    "    print(\"The key is not in the array.\")"
   ]
  },
  {
   "cell_type": "markdown",
   "metadata": {},
   "source": [
    "Okay, using ```in``` operator gives us a great deal of simplicity, but we should know the behind the scenes of ```in``` operator. "
   ]
  },
  {
   "cell_type": "code",
   "execution_count": 7,
   "metadata": {
    "collapsed": true
   },
   "outputs": [],
   "source": [
    "def linearSearch(theValues, target):\n",
    "    n = len(theValues)\n",
    "    for i in range(n):\n",
    "        # If the target is in the ith element, return True\n",
    "        if theValues[i] == target:\n",
    "            return True\n",
    "    # If not found, return False.\n",
    "    return False\n",
    "        "
   ]
  },
  {
   "cell_type": "markdown",
   "metadata": {},
   "source": [
    "Finding a specific item from unsorted list resulted worst case time of O(n), since it has to go all the way to the end n iteration.\n",
    "\n",
    "What about if we search through Sorted sequence? Since we know that the list is sorted we might avoid going through the end, we can terminate it if we came to bigger number than our target. This produces the somewhat better version than the unsorted linear search but complexity is still the same.\n"
   ]
  },
  {
   "cell_type": "code",
   "execution_count": 8,
   "metadata": {
    "collapsed": true
   },
   "outputs": [],
   "source": [
    "def sortedLinearSearch(theValues, item):\n",
    "    n = len(theValues)\n",
    "    for i in range(n):\n",
    "        # If the target is found in the ith element, return True\n",
    "        if theValues[i] == item:\n",
    "            return True\n",
    "        # If target is largers than the ith element, it's not in the sequence.\n",
    "        elif theValues[i] > item:\n",
    "            return False\n",
    "    \n",
    "    # The item is not in the sequence.\n",
    "    return False"
   ]
  },
  {
   "cell_type": "markdown",
   "metadata": {},
   "source": [
    "**Finding the Smallest Value**\n",
    "\n",
    "It is equivalen to ```min()``` function in Python. To be able to accomplish this we have to do linear search but this time we have to keep track of the smallest number. Complexity is O(n) again.\n"
   ]
  },
  {
   "cell_type": "code",
   "execution_count": 9,
   "metadata": {
    "collapsed": true
   },
   "outputs": [],
   "source": [
    "def findSmallest(theValues):\n",
    "    n = len(theValues)\n",
    "    # Assume the first item is the smallest value\n",
    "    smallest = theValues[0]\n",
    "    # Determine if any other item in the sequence is smaller.\n",
    "    for i in range(1,n):\n",
    "        if theValues[i] < smallest:\n",
    "            smallest = theValues[i]\n",
    "    # Return the smallest found.\n",
    "    return smallest"
   ]
  },
  {
   "cell_type": "markdown",
   "metadata": {},
   "source": [
    "We can do the same thing for finding the maximum number, Python's ```max()``` implementation"
   ]
  },
  {
   "cell_type": "code",
   "execution_count": 10,
   "metadata": {
    "collapsed": true
   },
   "outputs": [],
   "source": [
    "def findBiggest(theValues):\n",
    "    n = len(theValues)\n",
    "    # Assuming the first item is the biggest value\n",
    "    biggest = theValues[0]\n",
    "    # Determine if any other item in the sequence is bigger.\n",
    "    for i in range(1, n):\n",
    "        if theValues[i] > biggest:\n",
    "            biggest = theValues[i]\n",
    "    #Return the biggest found.\n",
    "    return biggest"
   ]
  },
  {
   "cell_type": "code",
   "execution_count": null,
   "metadata": {
    "collapsed": true
   },
   "outputs": [],
   "source": []
  }
 ],
 "metadata": {
  "anaconda-cloud": {},
  "kernelspec": {
   "display_name": "Python [default]",
   "language": "python",
   "name": "python2"
  },
  "language_info": {
   "codemirror_mode": {
    "name": "ipython",
    "version": 2
   },
   "file_extension": ".py",
   "mimetype": "text/x-python",
   "name": "python",
   "nbconvert_exporter": "python",
   "pygments_lexer": "ipython2",
   "version": "2.7.12"
  }
 },
 "nbformat": 4,
 "nbformat_minor": 1
}
