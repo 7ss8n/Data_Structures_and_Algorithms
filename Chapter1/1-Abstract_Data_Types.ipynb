{
 "cells": [
  {
   "cell_type": "markdown",
   "metadata": {},
   "source": [
    "# Abstract Data Types\n",
    "\n",
    "## Introduction\n",
    "\n",
    "There are **primitive data types** provided by the programming language as default and they come in two categories:\n",
    "\n",
    "- __simple data types__ consist of values that are in the most basic form and cannot be decomposed into smaller parts. (*Interger and real type*)\n",
    "- __complex data types__ are constructed of multiple components consisting of simple types or other complex types. (*objects, strings, lists, dictionaries*)\n",
    "\n",
    "> Most languages allow for the construction of additional data types, known as **user-defined types**. \n",
    "\n",
    "\n"
   ]
  }
 ],
 "metadata": {
  "kernelspec": {
   "display_name": "Python [Root]",
   "language": "python",
   "name": "Python [Root]"
  },
  "language_info": {
   "codemirror_mode": {
    "name": "ipython",
    "version": 2
   },
   "file_extension": ".py",
   "mimetype": "text/x-python",
   "name": "python",
   "nbconvert_exporter": "python",
   "pygments_lexer": "ipython2",
   "version": "2.7.12"
  }
 },
 "nbformat": 4,
 "nbformat_minor": 0
}
