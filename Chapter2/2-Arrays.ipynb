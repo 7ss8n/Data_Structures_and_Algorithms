{
 "cells": [
  {
   "cell_type": "markdown",
   "metadata": {},
   "source": [
    "# Arrays\n",
    "\n",
    "\n",
    "Array structure is the most basic structure to store data. In this section we will learn the basics of Arrays and implement an array structure for a one-dimensional array. Then we will create two dimensional array.\n",
    "\n",
    "## The Array Structure\n",
    "\n",
    "- A __one-dimensional array__ composed of multiple sequential elements stored in contiguous bytes of memory and allows for random access to the individual elements. \n",
    "- Elements in the array can be accessed directly by the index number we assign while we create the array.\n",
    "\n",
    "Array structure is very similar to Python's list structure, however there are two major differences between the array and the list. \n",
    "\n",
    "- First, Array has limited number of operations, and list has large collection of operations.\n",
    "- Second, Array size cannot be changed after it's created, but list is flexible.\n",
    "\n",
    "Array is best usable when the number of elements are known up front. \n",
    "\n",
    "\n",
    "### The Array Abstract Data Type\n",
    "\n",
    "Array structure found in most programming languages as primitive type. Now we will define Array ADT to represent a one-dimensional array for use in Python that works similarly to arrays found in other languages. \n",
    "\n",
    "__Array ADT Definition__:\n",
    "\n",
    "- ```Array(size)``` : Create one-dimensional array consisting of ```size``` elements with each element initially set to None. ```size``` must be greater than zero. \n",
    "- ```length()``` : Returns the length or number of elements in the array\n",
    "- ```getitem(index)``` : Returns the value stored in the array at element position ```index```.(Must be in valid range.)\n",
    "- ```setitem(index, value)``` : Modifies the contents of the array element at position ```index``` to contain ```value```. \n",
    "- ```clearing(value)``` : Clears the array by setting every element to ```value```\n",
    "- ```iterator()``` : Creates and returns an iterator that can be used to traverse the elements of the array.\n",
    "\n",
    "In our ADT definition we used basic hardware level implementation and made it more abstract by adding iterator and \n",
    "optain size, set value, etc.\n",
    "\n",
    "Now we created our ADT in file called ```array.py```, let's use it to fill our array with random values and print them one per line. "
   ]
  },
  {
   "cell_type": "code",
   "execution_count": null,
   "metadata": {
    "collapsed": true
   },
   "outputs": [],
   "source": [
    "from array import Array\n",
    "import random\n",
    "\n",
    "# Array valueList created with size of 100\n",
    "valueList = Array(100)\n",
    "\n",
    "# Filling the array with random floating-point values\n",
    "for i in range(len(valueList)):\n",
    "    valueList[i] = random.random()\n",
    "    \n",
    "# Print the values, one per line\n",
    "for value in valueList:\n",
    "    print(value)"
   ]
  },
  {
   "cell_type": "markdown",
   "metadata": {},
   "source": [
    "Now our Array ADT is working like charm let's use it with somewhat better implementation. Let's count the number of occurrences of each letter in a text file using Array ADT:"
   ]
  },
  {
   "cell_type": "code",
   "execution_count": null,
   "metadata": {
    "collapsed": true
   },
   "outputs": [],
   "source": [
    "from array import Array\n",
    "\n",
    "# Array theCounters created with size of 127 (ASCII characters)\n",
    "theCounters = Array(127)\n",
    "# theCounters elements initialized to 0 \n",
    "theCounters.clear(0)\n",
    "\n",
    "# Open the text file for reading and extract each line from the file\n",
    "# and iterate over each character in the line.\n",
    "theFile = Open('textfile.txt', 'r')\n",
    "for line in theFile:\n",
    "    for letter in line:\n",
    "        code = ord(letter)\n",
    "        theCounters[code] += 1\n",
    "# Close the file\n",
    "theFile.close()\n",
    "\n",
    "# Print the results. The uppercase letters have ASCII values in the range 65..90\n",
    "# the lowercase letters are in the range 97..122.\n",
    "for i in range(26):\n",
    "    print(\"%c - %4d         %c - %4d\" % (chr(65+i), theCounters[65+i], chr(97+i), theCounters[97+i]))"
   ]
  },
  {
   "cell_type": "code",
   "execution_count": null,
   "metadata": {
    "collapsed": true
   },
   "outputs": [],
   "source": []
  }
 ],
 "metadata": {
  "kernelspec": {
   "display_name": "Python [Root]",
   "language": "python",
   "name": "Python [Root]"
  },
  "language_info": {
   "codemirror_mode": {
    "name": "ipython",
    "version": 2
   },
   "file_extension": ".py",
   "mimetype": "text/x-python",
   "name": "python",
   "nbconvert_exporter": "python",
   "pygments_lexer": "ipython2",
   "version": "2.7.12"
  }
 },
 "nbformat": 4,
 "nbformat_minor": 0
}
