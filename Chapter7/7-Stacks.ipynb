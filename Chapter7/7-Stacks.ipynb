{
 "cells": [
  {
   "cell_type": "markdown",
   "metadata": {},
   "source": [
    "# Stacks\n",
    "\n",
    "Stack is a type of container with restricted access that stores a linear collection. \n",
    "\n",
    "## The Stack ADT\n",
    "\n",
    "- The stack stores data in **last-in first-out** protocol\n",
    "- **Top** of the stack is where new items are added, or existing items are removed from the same end.\n",
    "- **Base** is the opposite end. \n",
    "\n",
    "![Stack ADT Visual](https://www.tutorialspoint.com/data_structures_algorithms/images/stack_representation.jpg)"
   ]
  },
  {
   "cell_type": "code",
   "execution_count": null,
   "metadata": {
    "collapsed": true
   },
   "outputs": [],
   "source": []
  }
 ],
 "metadata": {
  "kernelspec": {
   "display_name": "Python 3",
   "language": "python",
   "name": "python3"
  },
  "language_info": {
   "codemirror_mode": {
    "name": "ipython",
    "version": 3
   },
   "file_extension": ".py",
   "mimetype": "text/x-python",
   "name": "python",
   "nbconvert_exporter": "python",
   "pygments_lexer": "ipython3",
   "version": "3.6.1"
  }
 },
 "nbformat": 4,
 "nbformat_minor": 2
}
