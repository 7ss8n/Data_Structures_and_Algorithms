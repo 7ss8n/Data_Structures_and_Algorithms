{
 "cells": [
  {
   "cell_type": "markdown",
   "metadata": {},
   "source": [
    "# Sets and Maps\n",
    "\n",
    "In this chapter we will look at the implementations of some of the Python's built-in abstract data types, sets and dictionaries, like we did in previous chapters. \n",
    "\n",
    "## Sets\n",
    "\n",
    "Unlike Bag ADT we defined in chapter 1, Set ADT -container- stores unique values and represents the same structure found in mathematics. \n",
    "\n",
    "### The Set Abstract Data Type\n",
    "\n",
    "We will implement the Set abstract data type using list for this chapter, later chapters will provide more implementations and we will evaluate them. \n",
    "\n",
    "You can see the implemented Set ADT in ```linearset.py```\n",
    "\n",
    "Now let's try our implementation, if it's working or not."
   ]
  },
  {
   "cell_type": "code",
   "execution_count": 6,
   "metadata": {
    "collapsed": true
   },
   "outputs": [],
   "source": [
    "from linearset import Set\n",
    "\n",
    "smith = Set()\n",
    "smith.add(\"CSCI-112\")\n",
    "smith.add(\"MATH-121\")\n",
    "smith.add(\"HIST-340\")\n",
    "smith.add(\"ECON-101\")\n",
    "\n",
    "robert = Set()\n",
    "robert.add('POL-101')\n",
    "robert.add('ANTH-230')\n",
    "robert.add('CSCI-112')\n",
    "robert.add('ECON-101')"
   ]
  },
  {
   "cell_type": "code",
   "execution_count": 8,
   "metadata": {
    "collapsed": false
   },
   "outputs": [
    {
     "ename": "AttributeError",
     "evalue": "'NoneType' object has no attribute 'isEmpty'",
     "output_type": "error",
     "traceback": [
      "\u001b[0;31m---------------------------------------------------------------------------\u001b[0m",
      "\u001b[0;31mAttributeError\u001b[0m                            Traceback (most recent call last)",
      "\u001b[0;32m<ipython-input-8-800f7cd34bee>\u001b[0m in \u001b[0;36m<module>\u001b[0;34m()\u001b[0m\n\u001b[1;32m      3\u001b[0m \u001b[0;32melse\u001b[0m\u001b[0;34m:\u001b[0m\u001b[0;34m\u001b[0m\u001b[0m\n\u001b[1;32m      4\u001b[0m     \u001b[0msameCourses\u001b[0m \u001b[0;34m=\u001b[0m \u001b[0msmith\u001b[0m\u001b[0;34m.\u001b[0m\u001b[0mintersect\u001b[0m\u001b[0;34m(\u001b[0m\u001b[0mrobert\u001b[0m\u001b[0;34m)\u001b[0m\u001b[0;34m\u001b[0m\u001b[0m\n\u001b[0;32m----> 5\u001b[0;31m     \u001b[0;32mif\u001b[0m \u001b[0msameCourses\u001b[0m\u001b[0;34m.\u001b[0m\u001b[0misEmpty\u001b[0m\u001b[0;34m(\u001b[0m\u001b[0;34m)\u001b[0m\u001b[0;34m:\u001b[0m\u001b[0;34m\u001b[0m\u001b[0m\n\u001b[0m\u001b[1;32m      6\u001b[0m         \u001b[0;32mprint\u001b[0m\u001b[0;34m(\u001b[0m\u001b[0;34m\"Smith and Robert are not taking any of classes together.\"\u001b[0m\u001b[0;34m)\u001b[0m\u001b[0;34m\u001b[0m\u001b[0m\n\u001b[1;32m      7\u001b[0m     \u001b[0;32melse\u001b[0m\u001b[0;34m:\u001b[0m\u001b[0;34m\u001b[0m\u001b[0m\n",
      "\u001b[0;31mAttributeError\u001b[0m: 'NoneType' object has no attribute 'isEmpty'"
     ]
    }
   ],
   "source": [
    "if smith == robert:\n",
    "    print(\"Smith and Robert are taking the same courses.\")\n",
    "else:\n",
    "    sameCourses = smith.intersect(robert)\n",
    "    if sameCourses.isEmpty():\n",
    "        print(\"Smith and Robert are not taking any of classes together.\")\n",
    "    else:\n",
    "        print(\"Smith and Robert are taking some of the same courses\")\n",
    "        for course in sameCourses:\n",
    "            print(course)"
   ]
  },
  {
   "cell_type": "markdown",
   "metadata": {},
   "source": [
    "## Maps"
   ]
  }
 ],
 "metadata": {
  "anaconda-cloud": {},
  "kernelspec": {
   "display_name": "Python [default]",
   "language": "python",
   "name": "python2"
  },
  "language_info": {
   "codemirror_mode": {
    "name": "ipython",
    "version": 2
   },
   "file_extension": ".py",
   "mimetype": "text/x-python",
   "name": "python",
   "nbconvert_exporter": "python",
   "pygments_lexer": "ipython2",
   "version": "2.7.12"
  }
 },
 "nbformat": 4,
 "nbformat_minor": 1
}
