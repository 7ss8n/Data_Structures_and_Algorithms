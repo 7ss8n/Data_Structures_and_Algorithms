{
 "cells": [
  {
   "cell_type": "markdown",
   "metadata": {},
   "source": [
    "# Sets and Maps\n",
    "\n",
    "In this chapter we will look at the implementations of some of the Python's built-in abstract data types, sets and dictionaries, like we did in previous chapters. \n",
    "\n",
    "## Sets\n",
    "\n",
    "Unlike Bag ADT we defined in chapter 1, Set ADT -container- stores unique values and represents the same structure found in mathematics. \n",
    "\n",
    "### The Set Abstract Data Type\n",
    "\n",
    "We will implement the Set abstract data type using list for this chapter, later chapters will provide more implementations and we will evaluate them. \n",
    "\n"
   ]
  }
 ],
 "metadata": {
  "anaconda-cloud": {},
  "kernelspec": {
   "display_name": "Python [default]",
   "language": "python",
   "name": "python2"
  },
  "language_info": {
   "codemirror_mode": {
    "name": "ipython",
    "version": 2
   },
   "file_extension": ".py",
   "mimetype": "text/x-python",
   "name": "python",
   "nbconvert_exporter": "python",
   "pygments_lexer": "ipython2",
   "version": "2.7.12"
  }
 },
 "nbformat": 4,
 "nbformat_minor": 1
}
