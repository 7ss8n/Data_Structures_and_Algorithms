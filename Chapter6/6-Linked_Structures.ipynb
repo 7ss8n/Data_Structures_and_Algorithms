{
 "cells": [
  {
   "cell_type": "markdown",
   "metadata": {},
   "source": [
    "# Linked Structures\n",
    "\n",
    "- **Arrays** are basic sequence containe with easy and direct access to the individual elements however they are limited in their functionality\n",
    "- **Python lists** implemented using an array structure, which extends arrays' functionality by providing largers sets of operations. \n",
    "\n",
    "- Fixed array size, insertion and deletion times, are some problems of Arrays, and Python lists. \n",
    "- **Linked list** data structure can be used to store a collection in linear order. \n",
    "- Several variaties of linked liss are singly linked lists, and doubly linked lists.\n",
    "\n",
    "## Introduction\n",
    "\n",
    "Let's create a basic class containing sigle data field:"
   ]
  },
  {
   "cell_type": "code",
   "execution_count": 1,
   "metadata": {
    "collapsed": true
   },
   "outputs": [],
   "source": [
    "class ListNode:\n",
    "    def __init__(self, data):\n",
    "        self.data = data"
   ]
  },
  {
   "cell_type": "markdown",
   "metadata": {},
   "source": [
    "This is will give us just the containers that we can store data into."
   ]
  },
  {
   "cell_type": "code",
   "execution_count": 2,
   "metadata": {
    "collapsed": true
   },
   "outputs": [],
   "source": [
    "a = ListNode(11)\n",
    "b = ListNode(52)\n",
    "c = ListNode(18)"
   ]
  },
  {
   "cell_type": "code",
   "execution_count": 4,
   "metadata": {},
   "outputs": [
    {
     "name": "stdout",
     "output_type": "stream",
     "text": [
      "<__main__.ListNode object at 0x7f57e8588b38>\n"
     ]
    }
   ],
   "source": [
    "print(a)"
   ]
  },
  {
   "cell_type": "markdown",
   "metadata": {},
   "source": [
    "Since we did not define a method to show the value stored, we cannot see the value. However the values we passed to each variable is stored. \n",
    "\n",
    "---\n",
    "\n",
    "Now to make it a **linked** list, we have to establish a connection. To achieve this we can add another data field called *next* into our constructor."
   ]
  },
  {
   "cell_type": "code",
   "execution_count": 5,
   "metadata": {
    "collapsed": true
   },
   "outputs": [],
   "source": [
    "class ListNode:\n",
    "    def __init__(self, data):\n",
    "        self.data = data\n",
    "        self.next = None"
   ]
  },
  {
   "cell_type": "code",
   "execution_count": 6,
   "metadata": {
    "collapsed": true
   },
   "outputs": [],
   "source": [
    "# Initial creation of nodes\n",
    "a = ListNode(11)\n",
    "b = ListNode(52)\n",
    "c = ListNode(18)\n"
   ]
  },
  {
   "cell_type": "markdown",
   "metadata": {},
   "source": [
    "After modifying the ListNode class and creating nodes for testing we need to use next field to assign it to next node to establish a connection."
   ]
  },
  {
   "cell_type": "code",
   "execution_count": 7,
   "metadata": {
    "collapsed": true
   },
   "outputs": [],
   "source": [
    "a.next = b\n",
    "b.next = c"
   ]
  },
  {
   "cell_type": "code",
   "execution_count": 11,
   "metadata": {},
   "outputs": [
    {
     "name": "stdout",
     "output_type": "stream",
     "text": [
      "11\n",
      "52\n",
      "18\n"
     ]
    }
   ],
   "source": [
    "print(a.data) # Prints the first node\n",
    "print(a.next.data) # Prints the b\n",
    "print(a.next.next.data) # Prints the c"
   ]
  },
  {
   "cell_type": "markdown",
   "metadata": {},
   "source": [
    "- Linked Structure contains **nodes** with data inside them and at least one reference or **link** to another. \n",
    "- Last node is commonly called the **tail** node, which is indicated by a null link reference.\n",
    "- The first node in the list is referenced by an external variable as it provides an entry point into the linked list, this variable called **head reference**. \n",
    "\n",
    "![Singly Linked List in nutshell](http://www.java2novice.com/images/linked_list.png)\n",
    "\n",
    "---"
   ]
  },
  {
   "cell_type": "markdown",
   "metadata": {},
   "source": [
    "## The Singly Linked List\n",
    "\n",
    "- Linked Lists with single connection allowed. \n",
    "\n",
    "### 1. Traversing the Nodes\n",
    "\n",
    "Connecting all the nodes together in large list of nodes is impractical with as we did in the early example. Instead we will use a temporary external reference to traverse through the list, moving the reference along as we access the individual nodes. \n",
    "\n",
    "```Python\n",
    "def traversal(head):\n",
    "    curNode = head\n",
    "    while curNode is not None:\n",
    "        print(curNode.data)\n",
    "        curNode = curNode.next\n",
    "```\n",
    "*A complete list traversal requires O(n) time.*\n",
    "\n",
    "### 2. Searching for a Node\n",
    "Linear search operation can be performed on a linked list, using the same principle we did with traversal.\n",
    "\n",
    "```Python\n",
    "def unorderedSearch(head, target):\n",
    "    curNode = head\n",
    "    while curNode is not None and curNode.data != target:\n",
    "        curNode = curNode.next\n",
    "    return curNode is not None\n",
    "```\n",
    "*Search operation requires O(n) in the worst case*\n",
    "\n",
    "### 3. Prepending Nodes\n",
    "Prepending a node can be done in constant time since no traversal is required, because we simply maintain the head reference. One simple example of prepending:\n",
    "\n",
    "```Python\n",
    "newNode = ListNode(item)\n",
    "newNode.next = head\n",
    "head = newNode\n",
    "```\n",
    "\n",
    "When we add a new value here are the steps followed:\n",
    "\n",
    "- Create a new node to store the new value\n",
    "- Set it's next field to point to the node currently at the front of the list\n",
    "- Adjust head to point to the new node since it's now the first node\n",
    "\n",
    "![Prepending a node to the linked list](./figures/addnode2linkedlist.png)\n",
    "\n",
    "> Careful of the order of the new links, because if we link the new node into the list before modifying the head reference we lose our external reference, which results losing the list itself.\n",
    "\n",
    "### 4. Removing Nodes\n",
    "Removing nodes or unlinking them will simply extract them from the linked list structure. The steps:\n",
    "\n",
    "- Find the node containing value and position the external reference pointing to it. \n",
    "- Unlink from the list by setting node's link field to ```None```\n",
    "- Access the node's successor by assigning extra next link to node. \n",
    "\n",
    "![Deleting a node from a linked list:](./figures/removeANode.png)\n",
    "\n",
    "> Removing the first node is a special case, because head references the node. "
   ]
  }
 ],
 "metadata": {
  "kernelspec": {
   "display_name": "Python 3",
   "language": "python",
   "name": "python3"
  },
  "language_info": {
   "codemirror_mode": {
    "name": "ipython",
    "version": 3
   },
   "file_extension": ".py",
   "mimetype": "text/x-python",
   "name": "python",
   "nbconvert_exporter": "python",
   "pygments_lexer": "ipython3",
   "version": "3.6.1"
  }
 },
 "nbformat": 4,
 "nbformat_minor": 2
}
